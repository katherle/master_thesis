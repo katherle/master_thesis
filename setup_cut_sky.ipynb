{
 "cells": [
  {
   "cell_type": "code",
   "execution_count": 4,
   "id": "ce62b751-bb9a-4dd1-8129-796cea1cdc0e",
   "metadata": {},
   "outputs": [],
   "source": [
    "import numpy as np\n",
    "import pandas as pd\n",
    "import matplotlib.pyplot as plt\n",
    "from cobaya.model import get_model\n",
    "import healpy as hp\n",
    "from astropy.io import fits\n",
    "from scipy.special import psi\n",
    "from scipy.special import polygamma\n",
    "\n",
    "from IPython.display import display, Math\n",
    "import matplotlib.pyplot as plt\n",
    "#from matplotlib_inline.backend_inline import set_matplotlib_formats\n",
    "from astropy.visualization import quantity_support\n",
    "from tqdm import tqdm\n",
    "\n",
    "quantity_support()\n",
    "#set_matplotlib_formats('svg')\n",
    "from matplotlib import cm\n",
    "from cycler import cycler\n",
    "plt.rc('legend', frameon = False)\n",
    "plt.rc('figure', figsize = (7, 7/1.25))\n",
    "plt.rc('font', size = 14)\n",
    "\n",
    "l_max = 1300\n",
    "nside = 512\n",
    "f_sky = 0.85"
   ]
  },
  {
   "cell_type": "code",
   "execution_count": 5,
   "id": "b0adcca4-edcf-4d65-bba2-b50fd6e58754",
   "metadata": {},
   "outputs": [],
   "source": [
    "#cmb plus noise\n",
    "Cls = pd.read_csv(\"../../PolSpice/PolSpice_v03-07-05/cl_hp_apodize.dat\", skiprows = [0], delim_whitespace=True, \n",
    "                  names = [\"TT\", \"EE\", \"BB\", \"TE\", \"TB\", \"EB\", \"ET\", \"BT\", \"BE\"])\n",
    "Cl_tt = np.array(Cls[\"TT\"])\n",
    "Cl_ee = np.array(Cls[\"EE\"])\n",
    "Cl_bb = np.array(Cls[\"BB\"])\n",
    "Cl_te = np.array(Cls[\"TE\"])\n",
    "Cl_eb = np.array(Cls[\"EB\"])\n",
    "Cl_tb = np.array(Cls[\"TB\"])\n",
    "\n",
    "#wait is Cl^TE not equal to Cl^ET when there's a mask?"
   ]
  },
  {
   "cell_type": "code",
   "execution_count": 6,
   "id": "b80f782f-c35f-4856-b084-d9934fc6aa03",
   "metadata": {},
   "outputs": [],
   "source": [
    "#just noise\n",
    "noise = fits.open('/mn/stornext/d16/cmbco/bp/johanres/commander_camb/camb_data/tod_070_rms_c0001_k000797_nside512.fits')\n",
    "noise_data = noise[1].data\n",
    "noise_temp = noise_data['TEMPERATURE'].flatten()\n",
    "noise_q    = noise_data['Q_POLARISATION'].flatten()\n",
    "noise_u    = noise_data['U_POLARISATION'].flatten()\n",
    "\n",
    "sigma_T = np.sqrt(np.mean(noise_temp**2))\n",
    "sigma_P = np.sqrt(np.mean(noise_q**2))\n",
    "\n",
    "N_l_T = sigma_T**2 * 4.*np.pi/(12.*nside**2)\n",
    "N_l_P = sigma_P**2 * 4.*np.pi/(12.*nside**2)"
   ]
  },
  {
   "cell_type": "code",
   "execution_count": 7,
   "id": "4fc4ad8a-a90a-4d28-961f-2d62b0874a7f",
   "metadata": {},
   "outputs": [],
   "source": [
    "#beam data and pixel window\n",
    "beam = fits.open('Bl_TEB_npipe6v19_70GHzx70GHz.fits')[1]\n",
    "pixel_window_T, pixel_window_P = np.array(hp.sphtfunc.pixwin(nside = nside, pol = True, lmax = l_max))\n",
    "\n",
    "func_tt = (beam.data['T'][:l_max+1] * pixel_window_T)**2\n",
    "func_ee = (beam.data['E'][:l_max+1] * pixel_window_P)**2\n",
    "func_bb = (beam.data['B'][:l_max+1] * pixel_window_P)**2\n",
    "func_te = pixel_window_T * pixel_window_P * beam.data['T'][:l_max+1] * beam.data['E'][:l_max+1]\n",
    "func_eb = pixel_window_P**2 * beam.data['E'][:l_max+1] * beam.data['B'][:l_max+1]\n",
    "func_tb = pixel_window_T * pixel_window_P * beam.data['T'][:l_max+1] * beam.data['B'][:l_max+1]"
   ]
  },
  {
   "cell_type": "code",
   "execution_count": null,
   "id": "2f635a61-4cc5-4635-afde-e70c0fa72ba5",
   "metadata": {},
   "outputs": [],
   "source": [
    "#set up cut sky likelihood function\n",
    "def mask_like(_self=None):\n",
    "    ells = np.arange(l_max+1)\n",
    "    \n",
    "    Cls_camb = _self.provider.get_Cl(ell_factor = False, units = \"muK2\")\n",
    "    camb_tt = Cls_camb['tt'][:l_max+1] * func_tt \n",
    "    camb_ee = Cls_camb['ee'][:l_max+1] * func_ee \n",
    "    camb_bb = Cls_camb['bb'][:l_max+1] * func_bb \n",
    "    camb_te = Cls_camb['te'][:l_max+1] * func_te \n",
    "    \n",
    "    Cls_map = np.zeros((l_max+1, 3, 3))\n",
    "    Cls_map_theo = np.zeros((l_max+1, 3, 3))\n",
    "    for ell in range(l_max+1):\n",
    "        Cls_map[ell] = np.array([[Cl_tt[ell], Cl_te[ell], Cl_tb[ell]],\n",
    "                                 [Cl_te[ell], Cl_ee[ell], Cl_eb[ell]],\n",
    "                                 [Cl_tb[ell], Cl_eb[ell], Cl_bb[ell]]])\n",
    "        Cls_map_theo[ell] = np.array([[camb_tt[ell] + N_l_T, camb_te[ell],         0.                  ],\n",
    "                                      [camb_te[ell],         camb_ee[ell] + N_l_P, 0.                  ],\n",
    "                                      [0.,                   0.,                   camb_bb[ell] + N_l_P]])\n",
    "        #any weird correlations? why don't I need to multiply TE by noise?\n",
    "        \n",
    "    #Compute the log-likelihood following section III E of Hamimeche and Lewis (2008)\n",
    "    logp = 0\n",
    "    for ell0 in range(2, l_max+1):\n",
    "        for ell1 in range(2, l_max+1):\n",
    "            logp += X_g[ell0].T * np.inv(M)[ell0][ell1] * X_g[ell1] \n",
    "            #?? there is a lot of linear algebra in this paper which ngl I do not quite understand\n",
    "            #obviously I still have to define X and M\n",
    "            #but right now I'm still not totally sure how this works\n"
   ]
  }
 ],
 "metadata": {
  "kernelspec": {
   "display_name": "Python 3",
   "language": "python",
   "name": "python3"
  },
  "language_info": {
   "codemirror_mode": {
    "name": "ipython",
    "version": 3
   },
   "file_extension": ".py",
   "mimetype": "text/x-python",
   "name": "python",
   "nbconvert_exporter": "python",
   "pygments_lexer": "ipython3",
   "version": "3.8.5"
  }
 },
 "nbformat": 4,
 "nbformat_minor": 5
}
